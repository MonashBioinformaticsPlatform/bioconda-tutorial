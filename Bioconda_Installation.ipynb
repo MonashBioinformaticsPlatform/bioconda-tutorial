{
 "cells": [
  {
   "cell_type": "markdown",
   "metadata": {
    "slideshow": {
     "slide_type": "slide"
    }
   },
   "source": [
    "<center>\n",
    "<h1>Using Bioconda to streamline software installation for bioinformatics</h1>\n",
    "<br/>\n",
    "<img src=\"bioconda.png\">\n",
    "<p>\n",
    "<em>2018-01-30</em>\n",
    "<br/>\n",
    "</p>\n",
    "<p>\n",
    "<em>Andrew Perry, <br/>Monash Bioinformatics Platform</em>\n",
    "</p>\n",
    "</center>\n",
    "\n",
    "Follow along: https://github.com/MonashBioinformaticsPlatform/bioconda-tutorial/blob/master/Bioconda_Installation.ipynb"
   ]
  },
  {
   "cell_type": "markdown",
   "metadata": {
    "slideshow": {
     "slide_type": "slide"
    }
   },
   "source": [
    "Disclaimer: while I'm talking about it, I don't pretend to be a conda / Bioconda expert.\n",
    "\n",
    "This my whirlwind reinterpretation based on a workshop delivered by Simon Gladman, Saskia Hiltemann and Eric Rasche [\"Packaging your bioinformatics tool with Bioconda and Galaxy\"](https://www.melbournebioinformatics.org.au/projects-blog/bioconda/)."
   ]
  },
  {
   "cell_type": "markdown",
   "metadata": {
    "slideshow": {
     "slide_type": "slide"
    }
   },
   "source": [
    "# Why conda ?\n",
    "\n",
    "* Manages self contained _environments_, including dependencies. No `sudo` required.\n",
    "\n",
    "* Large ecosystem of precompiled packages, organized as 'channels' (eg conda-forge, bioconda)\n",
    "\n",
    "* Language agnostic (not only Python !)\n",
    "\n",
    "* Creating new packages is straightforward compared with many systems (a recipe composed of a short [build.sh](https://github.com/pansapiens/bioconda-recipes/blob/master/recipes/seqtk/build.sh) and [meta.yml](https://github.com/pansapiens/bioconda-recipes/blob/master/recipes/seqtk/meta.yaml)).\n",
    "\n",
    "* Interoperates gracefully with Python `virtualenv`s and `pip`.\n",
    "\n",
    "* Open Source tool (BSD), backed by a company (Continuum Analytics). Some compiled packages in the default 'channel' aren't Open Source."
   ]
  },
  {
   "cell_type": "markdown",
   "metadata": {
    "slideshow": {
     "slide_type": "slide"
    }
   },
   "source": [
    "# Woah .. waddayamean 'environment'\n",
    "\n",
    "Conda sets some UNIX shell environment variables, primarily `PATH`, that determine which copy of a binary is run when you type it's name.\n",
    "\n",
    "Type: \n",
    "\n",
    "```bash\n",
    "env\n",
    "```\n",
    "\n",
    "and you will see your environment variables.\n",
    "\n",
    "<img src=\"captainplanet.jpg\">"
   ]
  },
  {
   "cell_type": "markdown",
   "metadata": {
    "slideshow": {
     "slide_type": "slide"
    }
   },
   "source": [
    "# Why use Bioconda ?\n",
    "\n",
    "* Large ecosystem of pre-packaged software already available, ~250 contributors.\n",
    "  - !!!--> http://bioconda.github.io/recipes.html <---!!!\n",
    "\n",
    "* Conda environments aid reproducibilty - an `environment.yml` file can record tool versions (+build number) that can be reliably reinstalled elsewhere.\n",
    "\n",
    "* Is the supported tool installation method for _Galaxy_, so existing packages will be maintained and grow.\n",
    "\n",
    "* Quality control - well documented guidelines (http://bioconda.github.io/guidelines.html), automatic testing  and package builds (TravisCI / CircleCI), Pull Requests reviewed by core team.\n",
    "  - Fun fact: Bioconda recipes don't blindly trust version numbers on tools, they use an md5 or sha256 checksum of the source tarball.\n",
    "\n",
    "* Docker and Singularity containers are automatically generated too (Biocontainers project)\n",
    "\n",
    "More sales pitches on [this blog](http://blogs.nature.com/naturejobs/2017/11/03/techblog-bioconda-promises-to-ease-bioinformatics-software-installation-woes/) and [bioArxiv](https://www.biorxiv.org/content/early/2017/10/27/207092)."
   ]
  },
  {
   "cell_type": "markdown",
   "metadata": {
    "slideshow": {
     "slide_type": "slide"
    }
   },
   "source": [
    "# Let's install Miniconda and some tools from Bioconda \n",
    "\n",
    "Miniconda installs the `conda` package manager in your home directory, in it's own conda 'environment' (Miniconda is a trimmed down version of 'Anaconda').\n",
    "\n",
    "Miniconda can be found at:\n",
    "https://conda.io/miniconda.html"
   ]
  },
  {
   "cell_type": "code",
   "execution_count": 1,
   "metadata": {
    "slideshow": {
     "slide_type": "subslide"
    }
   },
   "outputs": [
    {
     "name": "stdout",
     "output_type": "stream",
     "text": [
      "  % Total    % Received % Xferd  Average Speed   Time    Time     Time  Current\n",
      "                                 Dload  Upload   Total   Spent    Left  Speed\n",
      "100 34.3M  100 34.3M    0     0  15.1M      0  0:00:02  0:00:02 --:--:-- 15.1M\n"
     ]
    }
   ],
   "source": [
    "cd ~\n",
    "# macOS\n",
    "curl -O https://repo.continuum.io/miniconda/Miniconda3-latest-MacOSX-x86_64.sh\n",
    "\n",
    "# or Linux\n",
    "# curl -O https://repo.continuum.io/miniconda/Miniconda3-latest-Linux-x86_64.sh"
   ]
  },
  {
   "cell_type": "code",
   "execution_count": 2,
   "metadata": {
    "slideshow": {
     "slide_type": "subslide"
    }
   },
   "outputs": [
    {
     "name": "stdout",
     "output_type": "stream",
     "text": [
      "\n",
      "usage: ./Miniconda3-latest-MacOSX-x86_64.sh [options]\n",
      "\n",
      "Installs Miniconda3 4.3.31\n",
      "\n",
      "-b           run install in batch mode (without manual intervention),\n",
      "             it is expected the license terms are agreed upon\n",
      "-f           no error if install prefix already exists\n",
      "-h           print this help message and exit\n",
      "-p PREFIX    install prefix, defaults to /Users/perry/miniconda3, must not contain spaces.\n",
      "-s           skip running pre/post-link/install scripts\n",
      "-u           update an existing installation\n",
      "-t           run package tests after installation (may install conda-build)\n",
      "\n"
     ]
    },
    {
     "ename": "",
     "evalue": "2",
     "execution_count": 2,
     "output_type": "error",
     "traceback": []
    }
   ],
   "source": [
    "sh ./Miniconda3-latest-MacOSX-x86_64.sh --help"
   ]
  },
  {
   "cell_type": "code",
   "execution_count": 3,
   "metadata": {
    "slideshow": {
     "slide_type": "subslide"
    }
   },
   "outputs": [
    {
     "name": "stdout",
     "output_type": "stream",
     "text": [
      "\n",
      "Welcome to Miniconda3 4.3.31\n",
      "\n",
      "In order to continue the installation process, please review the license\n",
      "agreement.\n",
      "Please, press ENTER to continue\n",
      ">>> \n"
     ]
    }
   ],
   "source": [
    "sh ./Miniconda3-latest-MacOSX-x86_64.sh\n",
    "# sh ./Miniconda3-latest-MacOSX-x86_64.sh -b"
   ]
  },
  {
   "cell_type": "markdown",
   "metadata": {},
   "source": [
    "Read license (press ENTER many times) then type 'yes'.\n",
    "\n",
    "The installer adds line to `~/.bash_profile` ( `-s` option prevents this )."
   ]
  },
  {
   "cell_type": "code",
   "execution_count": 7,
   "metadata": {},
   "outputs": [],
   "source": [
    "export PATH=\"$HOME/miniconda3/bin:$PATH\""
   ]
  },
  {
   "cell_type": "code",
   "execution_count": 8,
   "metadata": {
    "slideshow": {
     "slide_type": "subslide"
    }
   },
   "outputs": [
    {
     "name": "stdout",
     "output_type": "stream",
     "text": [
      "usage: conda [-h] [-V] command ...\n",
      "\n",
      "conda is a tool for managing and deploying applications, environments and packages.\n",
      "\n",
      "Options:\n",
      "\n",
      "positional arguments:\n",
      "  command\n",
      "    info         Display information about current conda install.\n",
      "    help         Displays a list of available conda commands and their help\n",
      "                 strings.\n",
      "    list         List linked packages in a conda environment.\n",
      "    search       Search for packages and display their information. The input\n",
      "                 is a Python regular expression. To perform a search with a\n",
      "                 search string that starts with a -, separate the search from\n",
      "                 the options with --, like 'conda search -- -h'. A * in the\n",
      "                 results means that package is installed in the current\n",
      "                 environment. A . means that package is not installed but is\n",
      "                 cached in the pkgs directory.\n",
      "    create       Create a new conda environment from a list of specified\n",
      "                 packages.\n",
      "    install      Installs a list of packages into a specified conda\n",
      "                 environment.\n",
      "    update       Updates conda packages to the latest compatible version. This\n",
      "                 command accepts a list of package names and updates them to\n",
      "                 the latest versions that are compatible with all other\n",
      "                 packages in the environment. Conda attempts to install the\n",
      "                 newest versions of the requested packages. To accomplish\n",
      "                 this, it may update some packages that are already installed,\n",
      "                 or install additional packages. To prevent existing packages\n",
      "                 from updating, use the --no-update-deps option. This may\n",
      "                 force conda to install older versions of the requested\n",
      "                 packages, and it does not prevent additional dependency\n",
      "                 packages from being installed. If you wish to skip dependency\n",
      "                 checking altogether, use the '--force' option. This may\n",
      "                 result in an environment with incompatible packages, so this\n",
      "                 option must be used with great caution.\n",
      "    upgrade      Alias for conda update. See conda update --help.\n",
      "    remove       Remove a list of packages from a specified conda environment.\n",
      "    uninstall    Alias for conda remove. See conda remove --help.\n",
      "    config       Modify configuration values in .condarc. This is modeled\n",
      "                 after the git config command. Writes to the user .condarc\n",
      "                 file (/Users/perry/.condarc) by default.\n",
      "    clean        Remove unused packages and caches.\n",
      "    package      Low-level conda package utility. (EXPERIMENTAL)\n",
      "\n",
      "optional arguments:\n",
      "  -h, --help     Show this help message and exit.\n",
      "  -V, --version  Show the conda version number and exit.\n",
      "\n",
      "other commands, such as \"conda build\", are available when additional conda\n",
      "packages (e.g. conda-build) are installed\n",
      "\n"
     ]
    }
   ],
   "source": [
    "conda --help"
   ]
  },
  {
   "cell_type": "code",
   "execution_count": 9,
   "metadata": {
    "slideshow": {
     "slide_type": "subslide"
    }
   },
   "outputs": [
    {
     "name": "stdout",
     "output_type": "stream",
     "text": [
      "Warning: 'defaults' already in 'channels' list, moving to the top\n",
      "Warning: 'conda-forge' already in 'channels' list, moving to the top\n",
      "Warning: 'bioconda' already in 'channels' list, moving to the top\n"
     ]
    }
   ],
   "source": [
    "# Enable the bioconda 'channel' and some others\n",
    "conda config --add channels defaults\n",
    "conda config --add channels conda-forge\n",
    "conda config --add channels bioconda"
   ]
  },
  {
   "cell_type": "code",
   "execution_count": 11,
   "metadata": {},
   "outputs": [
    {
     "name": "stdout",
     "output_type": "stream",
     "text": [
      "channels:\n",
      "  - bioconda\n",
      "  - conda-forge\n",
      "  - defaults\n"
     ]
    }
   ],
   "source": [
    "# This is the config file that was modified by the conda config command. \n",
    "# Channels at the bottom take precedence\n",
    "cat ~/.condarc"
   ]
  },
  {
   "cell_type": "code",
   "execution_count": 14,
   "metadata": {
    "slideshow": {
     "slide_type": "subslide"
    }
   },
   "outputs": [
    {
     "name": "stdout",
     "output_type": "stream",
     "text": [
      "Fetching package metadata ...............\n",
      "Solving package specifications: .\n",
      "\n",
      "Package plan for installation in environment /Users/perry/miniconda3:\n",
      "\n",
      "The following NEW packages will be INSTALLED:\n",
      "\n",
      "    seqtk:     1.2-0            bioconda\n",
      "\n",
      "The following packages will be UPDATED:\n",
      "\n",
      "    conda:     4.3.31-py36_0             --> 4.3.33-py36_0 conda-forge\n",
      "\n",
      "The following packages will be SUPERSEDED by a higher-priority channel:\n",
      "\n",
      "    conda-env: 2.6.0-h36134e3_0          --> 2.6.0-0       conda-forge\n",
      "\n",
      "conda-env-2.6. 100% |################################| Time: 0:00:00 395.33 kB/s\n",
      "seqtk-1.2-0.ta 100% |################################| Time: 0:00:00  63.60 kB/s\n",
      "conda-4.3.33-p 100% |################################| Time: 0:00:01 279.73 kB/s\n"
     ]
    }
   ],
   "source": [
    "# Install some conda packages\n",
    "conda install -y seqtk"
   ]
  },
  {
   "cell_type": "code",
   "execution_count": 16,
   "metadata": {
    "slideshow": {
     "slide_type": "subslide"
    }
   },
   "outputs": [
    {
     "name": "stdout",
     "output_type": "stream",
     "text": [
      "Fetching package metadata ...............\n",
      "Solving package specifications: .\n",
      "\n",
      "# All requested packages already installed.\n",
      "# packages in environment at /Users/perry/miniconda3:\n",
      "#\n",
      "samtools                  0.1.15                        0    bioconda\n"
     ]
    }
   ],
   "source": [
    "# samtools version 0.1.15, build number 0\n",
    "conda install -y samtools=0.1.15=0\n",
    "\n",
    "# conda install kallisto\n",
    "# conda install salmon=0.9.1 sailfish"
   ]
  },
  {
   "cell_type": "code",
   "execution_count": 17,
   "metadata": {
    "slideshow": {
     "slide_type": "subslide"
    }
   },
   "outputs": [
    {
     "name": "stdout",
     "output_type": "stream",
     "text": [
      "total 5792\n",
      "drwxr-xr-x  75 perry  staff   2.3K 31 Jan 12:49 \u001b[34m.\u001b[39;49m\u001b[0m\n",
      "drwxr-xr-x  13 perry  staff   416B 31 Jan 12:48 \u001b[34m..\u001b[39;49m\u001b[0m\n",
      "-rwxr-xr-x   2 perry  staff   216B 27 Oct 02:51 \u001b[31m.python.app-post-link.sh\u001b[39;49m\u001b[0m\n",
      "-rwxr-xr-x   2 perry  staff    39B 27 Oct 02:51 \u001b[31m.python.app-pre-unlink.sh\u001b[39;49m\u001b[0m\n",
      "lrwxr-xr-x   1 perry  staff     8B 31 Jan 12:49 \u001b[35m2to3\u001b[39;49m\u001b[0m -> 2to3-3.6\n",
      "-rwxrwxr-x   1 perry  staff   111B 31 Jan 12:49 \u001b[31m2to3-3.6\u001b[39;49m\u001b[0m\n",
      "-rwxrwxr-x   2 perry  staff   3.7K 25 Jan 01:56 \u001b[31mactivate\u001b[39;49m\u001b[0m\n",
      "-rwxr-xr-x   1 perry  staff   5.0K 31 Jan 12:09 \u001b[31mc_rehash\u001b[39;49m\u001b[0m\n",
      "lrwxr-xr-x   1 perry  staff     3B 31 Jan 12:48 \u001b[35mcaptoinfo\u001b[39;49m\u001b[0m -> tic\n",
      "-rwxr-xr-x   1 perry  staff   243B 31 Jan 12:10 \u001b[31mchardetect\u001b[39;49m\u001b[0m\n",
      "-rwxrwxr-x   2 perry  staff    13K  3 Dec  2016 \u001b[31mclear\u001b[39;49m\u001b[0m\n",
      "-rwxrwxr-x   1 perry  staff   132B 31 Jan 12:48 \u001b[31mconda\u001b[39;49m\u001b[0m\n",
      "-rwxrwxr-x   1 perry  staff   150B 31 Jan 12:48 \u001b[31mconda-env\u001b[39;49m\u001b[0m\n",
      "-rwxrwxr-x   2 perry  staff   3.0K 25 Jan 01:56 \u001b[31mdeactivate\u001b[39;49m\u001b[0m\n",
      "-rwxr-xr-x   1 perry  staff   252B 31 Jan 12:10 \u001b[31measy_install\u001b[39;49m\u001b[0m\n",
      "-rwxr-xr-x   1 perry  staff   469B 31 Jan 12:10 \u001b[31measy_install-3.6\u001b[39;49m\u001b[0m\n",
      "lrwxr-xr-x   1 perry  staff     7B 31 Jan 12:49 \u001b[35midle3\u001b[39;49m\u001b[0m -> idle3.6\n",
      "-rwxrwxr-x   1 perry  staff   109B 31 Jan 12:49 \u001b[31midle3.6\u001b[39;49m\u001b[0m\n",
      "-rwxrwxr-x   2 perry  staff    71K  3 Dec  2016 \u001b[31minfocmp\u001b[39;49m\u001b[0m\n",
      "lrwxr-xr-x   1 perry  staff     3B 31 Jan 12:48 \u001b[35minfotocap\u001b[39;49m\u001b[0m -> tic\n",
      "lrwxr-xr-x   1 perry  staff     2B 31 Jan 12:09 \u001b[35mlzcat\u001b[39;49m\u001b[0m -> xz\n",
      "lrwxr-xr-x   1 perry  staff     6B 31 Jan 12:09 \u001b[35mlzcmp\u001b[39;49m\u001b[0m -> xzdiff\n",
      "lrwxr-xr-x   1 perry  staff     6B 31 Jan 12:09 \u001b[35mlzdiff\u001b[39;49m\u001b[0m -> xzdiff\n",
      "lrwxr-xr-x   1 perry  staff     6B 31 Jan 12:09 \u001b[35mlzegrep\u001b[39;49m\u001b[0m -> xzgrep\n",
      "lrwxr-xr-x   1 perry  staff     6B 31 Jan 12:09 \u001b[35mlzfgrep\u001b[39;49m\u001b[0m -> xzgrep\n",
      "lrwxr-xr-x   1 perry  staff     6B 31 Jan 12:09 \u001b[35mlzgrep\u001b[39;49m\u001b[0m -> xzgrep\n",
      "lrwxr-xr-x   1 perry  staff     6B 31 Jan 12:09 \u001b[35mlzless\u001b[39;49m\u001b[0m -> xzless\n",
      "lrwxr-xr-x   1 perry  staff     2B 31 Jan 12:09 \u001b[35mlzma\u001b[39;49m\u001b[0m -> xz\n",
      "-rwxr-xr-x   2 perry  staff    14K  8 Nov 09:17 \u001b[31mlzmadec\u001b[39;49m\u001b[0m\n",
      "-rwxr-xr-x   2 perry  staff    13K  8 Nov 09:17 \u001b[31mlzmainfo\u001b[39;49m\u001b[0m\n",
      "lrwxr-xr-x   1 perry  staff     6B 31 Jan 12:09 \u001b[35mlzmore\u001b[39;49m\u001b[0m -> xzmore\n",
      "-rwxrwxr-x   1 perry  staff   5.2K 31 Jan 12:48 \u001b[31mncurses5-config\u001b[39;49m\u001b[0m\n",
      "-rwxrwxr-x   1 perry  staff   5.2K 31 Jan 12:48 \u001b[31mncursesw5-config\u001b[39;49m\u001b[0m\n",
      "-rwxr-xr-x   2 perry  staff   560K  8 Dec 03:05 \u001b[31mopenssl\u001b[39;49m\u001b[0m\n",
      "-rwxr-xr-x   1 perry  staff   224B 31 Jan 12:10 \u001b[31mpip\u001b[39;49m\u001b[0m\n",
      "lrwxr-xr-x   1 perry  staff     8B 31 Jan 12:49 \u001b[35mpydoc\u001b[39;49m\u001b[0m -> pydoc3.6\n",
      "lrwxr-xr-x   1 perry  staff     8B 31 Jan 12:49 \u001b[35mpydoc3\u001b[39;49m\u001b[0m -> pydoc3.6\n",
      "-rwxrwxr-x   1 perry  staff    94B 31 Jan 12:49 \u001b[31mpydoc3.6\u001b[39;49m\u001b[0m\n",
      "lrwxr-xr-x   1 perry  staff     9B 31 Jan 12:49 \u001b[35mpython\u001b[39;49m\u001b[0m -> python3.6\n",
      "-rwxr-xr-x   1 perry  staff   133B 31 Jan 12:10 \u001b[31mpython.app\u001b[39;49m\u001b[0m\n",
      "lrwxr-xr-x   1 perry  staff     9B 31 Jan 12:49 \u001b[35mpython3\u001b[39;49m\u001b[0m -> python3.6\n",
      "lrwxr-xr-x   1 perry  staff    17B 31 Jan 12:49 \u001b[35mpython3-config\u001b[39;49m\u001b[0m -> python3.6m-config\n",
      "-rwxrwxr-x   1 perry  staff    13K 31 Jan 12:49 \u001b[31mpython3.6\u001b[39;49m\u001b[0m\n",
      "lrwxr-xr-x   1 perry  staff    17B 31 Jan 12:49 \u001b[35mpython3.6-config\u001b[39;49m\u001b[0m -> python3.6m-config\n",
      "-rwxrwxr-x   1 perry  staff    13K 31 Jan 12:49 \u001b[31mpython3.6m\u001b[39;49m\u001b[0m\n",
      "-rwxrwxr-x   1 perry  staff   2.0K 31 Jan 12:49 \u001b[31mpython3.6m-config\u001b[39;49m\u001b[0m\n",
      "-rwxr-xr-x   1 perry  staff   133B 31 Jan 12:10 \u001b[31mpythonw\u001b[39;49m\u001b[0m\n",
      "lrwxr-xr-x   1 perry  staff    10B 31 Jan 12:49 \u001b[35mpyvenv\u001b[39;49m\u001b[0m -> pyvenv-3.6\n",
      "-rwxrwxr-x   1 perry  staff   451B 31 Jan 12:49 \u001b[31mpyvenv-3.6\u001b[39;49m\u001b[0m\n",
      "lrwxr-xr-x   1 perry  staff     4B 31 Jan 12:48 \u001b[35mreset\u001b[39;49m\u001b[0m -> tset\n",
      "-rwxrwxr-x   2 perry  staff   391K  7 Oct 04:36 \u001b[31msamtools\u001b[39;49m\u001b[0m\n",
      "-rwxr-xr-x   2 perry  staff    59K  8 Jun  2016 \u001b[31mseqtk\u001b[39;49m\u001b[0m\n",
      "-rwxr-xr-x   2 perry  staff   1.3M  9 Jun  2016 \u001b[31msqlite3\u001b[39;49m\u001b[0m\n",
      "-rwxrwxr-x   2 perry  staff    18K  3 Dec  2016 \u001b[31mtabs\u001b[39;49m\u001b[0m\n",
      "lrwxr-xr-x   1 perry  staff     8B 31 Jan 12:49 \u001b[35mtclsh\u001b[39;49m\u001b[0m -> tclsh8.5\n",
      "-rwxrwxr-x   2 perry  staff    12K 27 Jul  2017 \u001b[31mtclsh8.5\u001b[39;49m\u001b[0m\n",
      "-rwxrwxr-x   2 perry  staff    80K  3 Dec  2016 \u001b[31mtic\u001b[39;49m\u001b[0m\n",
      "-rwxrwxr-x   2 perry  staff    19K  3 Dec  2016 \u001b[31mtoe\u001b[39;49m\u001b[0m\n",
      "-rwxrwxr-x   2 perry  staff    23K  3 Dec  2016 \u001b[31mtput\u001b[39;49m\u001b[0m\n",
      "-rwxrwxr-x   2 perry  staff    28K  3 Dec  2016 \u001b[31mtset\u001b[39;49m\u001b[0m\n",
      "lrwxr-xr-x   1 perry  staff     2B 31 Jan 12:09 \u001b[35munlzma\u001b[39;49m\u001b[0m -> xz\n",
      "lrwxr-xr-x   1 perry  staff     2B 31 Jan 12:09 \u001b[35munxz\u001b[39;49m\u001b[0m -> xz\n",
      "-rwxr-xr-x   1 perry  staff   231B 31 Jan 12:10 \u001b[31mwheel\u001b[39;49m\u001b[0m\n",
      "lrwxr-xr-x   1 perry  staff     7B 31 Jan 12:49 \u001b[35mwish\u001b[39;49m\u001b[0m -> wish8.5\n",
      "-rwxrwxr-x   2 perry  staff    21K 27 Jul  2017 \u001b[31mwish8.5\u001b[39;49m\u001b[0m\n",
      "-rwxr-xr-x   2 perry  staff    73K  8 Nov 09:17 \u001b[31mxz\u001b[39;49m\u001b[0m\n",
      "lrwxr-xr-x   1 perry  staff     2B 31 Jan 12:09 \u001b[35mxzcat\u001b[39;49m\u001b[0m -> xz\n",
      "lrwxr-xr-x   1 perry  staff     6B 31 Jan 12:09 \u001b[35mxzcmp\u001b[39;49m\u001b[0m -> xzdiff\n",
      "-rwxr-xr-x   2 perry  staff    14K  8 Nov 09:17 \u001b[31mxzdec\u001b[39;49m\u001b[0m\n",
      "-rwxr-xr-x   2 perry  staff   6.5K  8 Nov 09:17 \u001b[31mxzdiff\u001b[39;49m\u001b[0m\n",
      "lrwxr-xr-x   1 perry  staff     6B 31 Jan 12:09 \u001b[35mxzegrep\u001b[39;49m\u001b[0m -> xzgrep\n",
      "lrwxr-xr-x   1 perry  staff     6B 31 Jan 12:09 \u001b[35mxzfgrep\u001b[39;49m\u001b[0m -> xzgrep\n",
      "-rwxr-xr-x   2 perry  staff   5.5K  8 Nov 09:17 \u001b[31mxzgrep\u001b[39;49m\u001b[0m\n",
      "-rwxr-xr-x   2 perry  staff   1.8K  8 Nov 09:17 \u001b[31mxzless\u001b[39;49m\u001b[0m\n",
      "-rwxr-xr-x   2 perry  staff   2.1K  8 Nov 09:17 \u001b[31mxzmore\u001b[39;49m\u001b[0m\n"
     ]
    }
   ],
   "source": [
    "# Take a look at where those packages were installed (default environment 'root')\n",
    "ls ~/miniconda3/bin"
   ]
  },
  {
   "cell_type": "markdown",
   "metadata": {
    "slideshow": {
     "slide_type": "slide"
    }
   },
   "source": [
    "## Using environments\n",
    "\n",
    "Let's create and switch to a new environment, install some packages, record what we installed, deactivate it.\n",
    "\n",
    "https://conda.io/docs/user-guide/tasks/manage-environments.html"
   ]
  },
  {
   "cell_type": "code",
   "execution_count": 19,
   "metadata": {
    "slideshow": {
     "slide_type": "subslide"
    }
   },
   "outputs": [
    {
     "name": "stdout",
     "output_type": "stream",
     "text": [
      "Fetching package metadata ...............\n",
      "Solving package specifications: \n",
      "Package plan for installation in environment /Users/perry/miniconda3/envs/new_env:\n",
      "\n",
      "#\n",
      "# To activate this environment, use:\n",
      "# > source activate new_env\n",
      "#\n",
      "# To deactivate an active environment, use:\n",
      "# > source deactivate\n",
      "#\n",
      "\n",
      "(new_env) "
     ]
    },
    {
     "ename": "",
     "evalue": "1",
     "execution_count": 19,
     "output_type": "error",
     "traceback": []
    }
   ],
   "source": [
    "# Create a new conda environment\n",
    "conda create -y --name new_env\n",
    "\n",
    "# Activate it explicitly (actually not required after `conda create`)\n",
    "source activate new_env"
   ]
  },
  {
   "cell_type": "code",
   "execution_count": 20,
   "metadata": {
    "slideshow": {
     "slide_type": "subslide"
    }
   },
   "outputs": [
    {
     "name": "stdout",
     "output_type": "stream",
     "text": [
      "(new_env) Fetching package metadata ...............\n",
      "Solving package specifications: .\n",
      "\n",
      "Package plan for installation in environment /Users/perry/miniconda3/envs/new_env:\n",
      "\n",
      "The following NEW packages will be INSTALLED:\n",
      "\n",
      "    ncurses:  5.9-10   conda-forge\n",
      "    samtools: 0.1.14-0 bioconda   \n",
      "    zlib:     1.2.8-3  conda-forge\n",
      "\n",
      "samtools-0.1.1 100% |################################| Time: 0:00:02 189.56 kB/s\n",
      "(new_env) "
     ]
    },
    {
     "ename": "",
     "evalue": "1",
     "execution_count": 20,
     "output_type": "error",
     "traceback": []
    }
   ],
   "source": [
    "# Install some packages\n",
    "conda install -y samtools=0.1.14"
   ]
  },
  {
   "cell_type": "code",
   "execution_count": 22,
   "metadata": {
    "slideshow": {
     "slide_type": "subslide"
    }
   },
   "outputs": [
    {
     "name": "stdout",
     "output_type": "stream",
     "text": [
      "(new_env) (new_env) total 1336\n",
      "drwxr-xr-x  18 perry  staff   576B 31 Jan 13:18 \u001b[34m.\u001b[39;49m\u001b[0m\n",
      "drwxr-xr-x   7 perry  staff   224B 31 Jan 13:18 \u001b[34m..\u001b[39;49m\u001b[0m\n",
      "lrwxr-xr-x   1 perry  staff    36B 31 Jan 13:18 \u001b[35mactivate\u001b[39;49m\u001b[0m -> /Users/perry/miniconda3/bin/activate\n",
      "lrwxr-xr-x   1 perry  staff     3B 31 Jan 13:18 \u001b[35mcaptoinfo\u001b[39;49m\u001b[0m -> tic\n",
      "-rwxrwxr-x   3 perry  staff    13K  3 Dec  2016 \u001b[31mclear\u001b[39;49m\u001b[0m\n",
      "lrwxr-xr-x   1 perry  staff    33B 31 Jan 13:18 \u001b[35mconda\u001b[39;49m\u001b[0m -> /Users/perry/miniconda3/bin/conda\n",
      "lrwxr-xr-x   1 perry  staff    38B 31 Jan 13:18 \u001b[35mdeactivate\u001b[39;49m\u001b[0m -> /Users/perry/miniconda3/bin/deactivate\n",
      "-rwxrwxr-x   3 perry  staff    71K  3 Dec  2016 \u001b[31minfocmp\u001b[39;49m\u001b[0m\n",
      "lrwxr-xr-x   1 perry  staff     3B 31 Jan 13:18 \u001b[35minfotocap\u001b[39;49m\u001b[0m -> tic\n",
      "-rwxrwxr-x   1 perry  staff   5.2K 31 Jan 13:18 \u001b[31mncurses5-config\u001b[39;49m\u001b[0m\n",
      "-rwxrwxr-x   1 perry  staff   5.2K 31 Jan 13:18 \u001b[31mncursesw5-config\u001b[39;49m\u001b[0m\n",
      "lrwxr-xr-x   1 perry  staff     4B 31 Jan 13:18 \u001b[35mreset\u001b[39;49m\u001b[0m -> tset\n",
      "-rwxrwxr-x   2 perry  staff   381K  7 Oct 04:39 \u001b[31msamtools\u001b[39;49m\u001b[0m\n",
      "-rwxrwxr-x   3 perry  staff    18K  3 Dec  2016 \u001b[31mtabs\u001b[39;49m\u001b[0m\n",
      "-rwxrwxr-x   3 perry  staff    80K  3 Dec  2016 \u001b[31mtic\u001b[39;49m\u001b[0m\n",
      "-rwxrwxr-x   3 perry  staff    19K  3 Dec  2016 \u001b[31mtoe\u001b[39;49m\u001b[0m\n",
      "-rwxrwxr-x   3 perry  staff    23K  3 Dec  2016 \u001b[31mtput\u001b[39;49m\u001b[0m\n",
      "-rwxrwxr-x   3 perry  staff    28K  3 Dec  2016 \u001b[31mtset\u001b[39;49m\u001b[0m\n",
      "(new_env) /Users/perry/miniconda3/envs/new_env/bin/samtools\n",
      "(new_env) "
     ]
    },
    {
     "ename": "",
     "evalue": "1",
     "execution_count": 22,
     "output_type": "error",
     "traceback": []
    }
   ],
   "source": [
    "# By default, environments live under ~/miniconda3/envs\n",
    "# Take a look\n",
    "ls ~/miniconda3/envs/new_env/bin\n",
    "which samtools"
   ]
  },
  {
   "cell_type": "code",
   "execution_count": 23,
   "metadata": {
    "slideshow": {
     "slide_type": "subslide"
    }
   },
   "outputs": [
    {
     "name": "stdout",
     "output_type": "stream",
     "text": [
      "(new_env) (new_env) (new_env) (new_env) (new_env) name: new_env\n",
      "channels:\n",
      "- bioconda\n",
      "- conda-forge\n",
      "- defaults\n",
      "dependencies:\n",
      "- samtools=0.1.14=0\n",
      "- ncurses=5.9=10\n",
      "- zlib=1.2.8=3\n",
      "prefix: /Users/perry/miniconda3/envs/new_env\n",
      "\n",
      "(new_env) "
     ]
    },
    {
     "ename": "",
     "evalue": "1",
     "execution_count": 23,
     "output_type": "error",
     "traceback": []
    }
   ],
   "source": [
    "# You can export the current environment to an environment.yml\n",
    "# (For Pythonistas, this functionally similar to a requirements.txt file)\n",
    "# Keep the environment.yml with your analysis project\n",
    "conda env export >environment.yml\n",
    "\n",
    "cat environment.yml"
   ]
  },
  {
   "cell_type": "code",
   "execution_count": 24,
   "metadata": {
    "slideshow": {
     "slide_type": "subslide"
    }
   },
   "outputs": [
    {
     "name": "stdout",
     "output_type": "stream",
     "text": [
      "(new_env) (new_env) (new_env) (new_env) (new_env) "
     ]
    }
   ],
   "source": [
    "# You can recreate the environment somewhere else with\n",
    "# conda env create -f environment.yml\n",
    "# One step toward reproducability !\n",
    "\n",
    "# Leave the environment\n",
    "source deactivate"
   ]
  },
  {
   "cell_type": "markdown",
   "metadata": {
    "slideshow": {
     "slide_type": "slide"
    }
   },
   "source": [
    "# What about brew / linuxbrew ?\n",
    "\n",
    "* macOS `brew` and `linuxbrew` are essentially seperate projects with little cooperation.\n",
    "\n",
    "* Anecdotally, brew/linuxbrew bioinformatics installations were often low quality, frequently broken.\n",
    "\n",
    "## _homebrew-science is now deprecated_\n",
    "\n",
    "https://github.com/Homebrew/homebrew-science/issues/6365"
   ]
  },
  {
   "cell_type": "markdown",
   "metadata": {
    "slideshow": {
     "slide_type": "slide"
    }
   },
   "source": [
    "# What about apt, yum, etc\n",
    "\n",
    "* Targeted at system-wide packages - typically don't handle non-privileged installations or concurrent versions gracefully, if at all.\n",
    "\n",
    "* Official distributions (Debian, Ubuntu, Centos) software repositories rarely keep up to date with recent versions. Unofficial repositories sometimes fill this void (eg Debian Med).\n",
    "\n",
    "* Creating packages seems needlessly complex for mere mortals.\n"
   ]
  },
  {
   "cell_type": "markdown",
   "metadata": {
    "slideshow": {
     "slide_type": "slide"
    }
   },
   "source": [
    "# What about _modules_, LMOD etc\n",
    "\n",
    "* Well suited to using the shell environment (ie `PATH`) to manage concurrent versions.\n",
    "\n",
    "* LMOD environments can be 'additive' (many 'modules' can be loaded simultaneously, unlike conda environments).\n",
    "\n",
    "* LMOD isn't a package manager (doesn't handle download/compilation/installation)"
   ]
  },
  {
   "cell_type": "markdown",
   "metadata": {
    "slideshow": {
     "slide_type": "slide"
    }
   },
   "source": [
    "# What about _pip_ and _virtualenv_ ?\n",
    "\n",
    "* Both come with Python, great for Python packages, large ecosystem of existing packages.\n",
    "* Not well suited to non-Python packages (binaries and dependencies)."
   ]
  },
  {
   "cell_type": "markdown",
   "metadata": {
    "slideshow": {
     "slide_type": "slide"
    }
   },
   "source": [
    "# What about bio-ansible ?\n",
    "\n",
    "* [bio-ansible](https://github.com/MonashBioinformaticsPlatform/bio-ansible) is awesome because we wrote it.\n",
    "* Not awesome because we have to write every task to install new tools.\n",
    "  - But! bio-ansible also supports installing `conda` packages as LMOD modules (we can add anything from Bioconda easily)\n",
    "* Allows unprivileged installation of tools in your home directory, and system-wide packages & config.\n",
    "* Allows concurrent versions and 'stacking' environments via LMOD modules.\n",
    "* Higher barrier to entry for casual users, per-project installs (IMO)."
   ]
  },
  {
   "cell_type": "markdown",
   "metadata": {
    "slideshow": {
     "slide_type": "slide"
    }
   },
   "source": [
    "# Things I've noticed conda doesn't do well\n",
    "\n",
    "* Doesn't *officially* support 'stacking' environments, *ala* LMOD.\n",
    "  - Do we care ? Software is small, disk space is cheap, just make environments with the combinations of tool versions you need.\n",
    "  - Unofficially, adding `max_shlvl: 16` to `~/.condarc` allows it (YMMV) (https://github.com/conda/conda/issues/3580).\n",
    "* Recipes for building packages (coming up) specify dependency names but not the 'channel' they come from.\n",
    "* No streamlined method to install from source (eg `conda install https://github.com/me/my_recipe`), pre-compiled binary centric ?\n",
    "  - Feature appears to have been considered and rejected: https://github.com/conda/conda/issues/306"
   ]
  },
  {
   "cell_type": "markdown",
   "metadata": {
    "slideshow": {
     "slide_type": "slide"
    }
   },
   "source": [
    "# Creating (Bio)conda packages\n",
    "\n",
    "## Lets look at the Bioconda recipe for _seqtk_\n",
    "\n",
    "https://github.com/bioconda/bioconda-recipes/tree/master/recipes/seqtk"
   ]
  },
  {
   "cell_type": "markdown",
   "metadata": {
    "slideshow": {
     "slide_type": "subslide"
    }
   },
   "source": [
    "### build.sh\n",
    "```bash\n",
    "#!/bin/bash\n",
    "\n",
    "export C_INCLUDE_PATH=${PREFIX}/include\n",
    "export LIBRARY_PATH=${PREFIX}/lib\n",
    "\n",
    "make all\n",
    "mkdir -p $PREFIX/bin\n",
    "cp -f seqtk $PREFIX/bin/\n",
    "```\n",
    "\n",
    "`PREFIX` is the installation path in the conda build environment (in a configure script you'd do `configure --prefix=$PREFIX`)"
   ]
  },
  {
   "cell_type": "markdown",
   "metadata": {
    "slideshow": {
     "slide_type": "subslide"
    }
   },
   "source": [
    "## meta.yaml\n",
    "```yaml\n",
    "package:\n",
    "  name: seqtk\n",
    "  version: 1.2\n",
    "\n",
    "source:\n",
    "  fn: v1.2.tar.gz\n",
    "  url: https://github.com/lh3/seqtk/archive/v1.2.tar.gz\n",
    "  md5: 255ffe05bf2f073dc57abcff97f11a37\n",
    "\n",
    "build:\n",
    "  number: 0\n",
    "\n",
    "requirements:\n",
    "  build:\n",
    "    - gcc   # [not osx]\n",
    "    - llvm  # [osx]\n",
    "    - zlib\n",
    "  run:\n",
    "    - zlib\n",
    "\n",
    "\n",
    "about:\n",
    "  home: https://github.com/lh3/seqtk\n",
    "  license: MIT License\n",
    "  summary: Seqtk is a fast and lightweight tool for processing sequences in the FASTA or FASTQ format\n",
    "\n",
    "test:\n",
    "  commands:\n",
    "    - seqtk seq\n",
    "```"
   ]
  },
  {
   "cell_type": "markdown",
   "metadata": {
    "slideshow": {
     "slide_type": "slide"
    }
   },
   "source": [
    "## Building a recipe (vanilla conda way)"
   ]
  },
  {
   "cell_type": "code",
   "execution_count": 25,
   "metadata": {
    "slideshow": {
     "slide_type": "subslide"
    }
   },
   "outputs": [],
   "source": [
    "cd ~\n",
    "mkdir -p recipes/seqtk\n",
    "\n",
    "# Create your build.sh and meta.yml\n",
    "# See also: `conda skeleton`, which can help generate templates for specific package types\n",
    "\n",
    "# vi recipes/seqtk/build.sh\n",
    "# vi recipes/seqtk/meta.yaml"
   ]
  },
  {
   "cell_type": "code",
   "execution_count": 28,
   "metadata": {
    "slideshow": {
     "slide_type": "subslide"
    }
   },
   "outputs": [
    {
     "name": "stdout",
     "output_type": "stream",
     "text": [
      "Fetching package metadata ...............\n",
      "Solving package specifications: .\n",
      "\n",
      "Package plan for installation in environment /Users/perry/miniconda3:\n",
      "\n",
      "The following NEW packages will be INSTALLED:\n",
      "\n",
      "    beautifulsoup4: 4.6.0-py36_0  conda-forge\n",
      "    conda-build:    2.1.18-py36_0 conda-forge\n",
      "    conda-verify:   2.0.0-py36_0  conda-forge\n",
      "    filelock:       2.0.6-py36_0  conda-forge\n",
      "    jinja2:         2.10-py36_0   conda-forge\n",
      "    markupsafe:     1.0-py36_0    conda-forge\n",
      "    pkginfo:        1.4.1-py36_0  conda-forge\n",
      "    pycrypto:       2.6.1-py36_1  conda-forge\n",
      "    pyyaml:         3.12-py36_1   conda-forge\n",
      "\n",
      "beautifulsoup4 100% |################################| Time: 0:00:02  59.83 kB/s\n",
      "filelock-2.0.6 100% |################################| Time: 0:00:00   3.52 MB/s\n",
      "markupsafe-1.0 100% |################################| Time: 0:00:00  29.10 kB/s\n",
      "pkginfo-1.4.1- 100% |################################| Time: 0:00:00  83.65 kB/s\n",
      "pycrypto-2.6.1 100% |################################| Time: 0:00:05  86.19 kB/s\n",
      "pyyaml-3.12-py 100% |################################| Time: 0:00:02  70.36 kB/s\n",
      "conda-verify-2 100% |################################| Time: 0:00:00  62.62 kB/s\n",
      "jinja2-2.10-py 100% |################################| Time: 0:00:02  76.46 kB/s\n",
      "conda-build-2. 100% |################################| Time: 0:00:03  81.03 kB/s\n"
     ]
    }
   ],
   "source": [
    "# We need the conda-build package to ... build packages\n",
    "conda install -y conda-build"
   ]
  },
  {
   "cell_type": "code",
   "execution_count": 31,
   "metadata": {
    "slideshow": {
     "slide_type": "subslide"
    }
   },
   "outputs": [
    {
     "name": "stdout",
     "output_type": "stream",
     "text": [
      "BUILD START: seqtk-1.2-0\n",
      "updating index in: /Users/perry/miniconda3/conda-bld/osx-64\n",
      "updating index in: /Users/perry/miniconda3/conda-bld/noarch\n",
      "\n",
      "The following NEW packages will be INSTALLED:\n",
      "\n",
      "    cctools:       895-h7512d6f_0              \n",
      "    ld64:          274.2-h7c2db76_0            \n",
      "    libcxx:        4.0.1-h579ed51_0            \n",
      "    libcxxabi:     4.0.1-hebd6815_0            \n",
      "    llvm:          4.0.1-hc748206_0            \n",
      "    llvm-lto-tapi: 4.0.1-h6701bc3_0            \n",
      "    zlib:          1.2.11-0         conda-forge\n",
      "\n",
      "\n",
      "WARNING: conda-build appears to be out of date. You have version 2.1.18 but the\n",
      "latest version is 3.3.0. Run\n",
      "\n",
      "conda update -n root conda-build\n",
      "\n",
      "to get the latest version.\n",
      "\n",
      "Source cache directory is: /Users/perry/miniconda3/conda-bld/src_cache\n",
      "Downloading source to cache: v1.2.tar.gz\n",
      "Downloading https://github.com/lh3/seqtk/archive/v1.2.tar.gz\n",
      "Success\n",
      "Extracting download\n",
      "Package: seqtk-1.2-0\n",
      "source tree in: /Users/perry/miniconda3/conda-bld/seqtk_1517365865334/work/seqtk-1.2\n",
      "+ source /Users/perry/miniconda3/bin/activate /Users/perry/miniconda3/conda-bld/seqtk_1517365865334/_b_env_placehold_placehold_placehold_placehold_placehold_placehold_placehold_placehold_placehold_placehold_placehold_placehold_placehold_placehold_placehold_placehold_placehold_placehold_placehold_plac\n",
      "+ export C_INCLUDE_PATH=/Users/perry/miniconda3/conda-bld/seqtk_1517365865334/_b_env_placehold_placehold_placehold_placehold_placehold_placehold_placehold_placehold_placehold_placehold_placehold_placehold_placehold_placehold_placehold_placehold_placehold_placehold_placehold_plac/include\n",
      "+ C_INCLUDE_PATH=/Users/perry/miniconda3/conda-bld/seqtk_1517365865334/_b_env_placehold_placehold_placehold_placehold_placehold_placehold_placehold_placehold_placehold_placehold_placehold_placehold_placehold_placehold_placehold_placehold_placehold_placehold_placehold_plac/include\n",
      "+ export LIBRARY_PATH=/Users/perry/miniconda3/conda-bld/seqtk_1517365865334/_b_env_placehold_placehold_placehold_placehold_placehold_placehold_placehold_placehold_placehold_placehold_placehold_placehold_placehold_placehold_placehold_placehold_placehold_placehold_placehold_plac/lib\n",
      "+ LIBRARY_PATH=/Users/perry/miniconda3/conda-bld/seqtk_1517365865334/_b_env_placehold_placehold_placehold_placehold_placehold_placehold_placehold_placehold_placehold_placehold_placehold_placehold_placehold_placehold_placehold_placehold_placehold_placehold_placehold_plac/lib\n",
      "+ make all\n",
      "gcc -g -Wall -O2 -Wno-unused-function seqtk.c -o seqtk -lz -lm\n",
      "+ mkdir -p /Users/perry/miniconda3/conda-bld/seqtk_1517365865334/_b_env_placehold_placehold_placehold_placehold_placehold_placehold_placehold_placehold_placehold_placehold_placehold_placehold_placehold_placehold_placehold_placehold_placehold_placehold_placehold_plac/bin\n",
      "+ cp -f seqtk /Users/perry/miniconda3/conda-bld/seqtk_1517365865334/_b_env_placehold_placehold_placehold_placehold_placehold_placehold_placehold_placehold_placehold_placehold_placehold_placehold_placehold_placehold_placehold_placehold_placehold_placehold_placehold_plac/bin/\n",
      "INFO:conda_build.build:Packaging seqtk-1.2-0\n",
      "number of files: 1\n",
      "Fixing permissions\n",
      "Fixing linking of @rpath/libz.1.dylib in /Users/perry/miniconda3/conda-bld/seqtk_1517365865334/_b_env_placehold_placehold_placehold_placehold_placehold_placehold_placehold_placehold_placehold_placehold_placehold_placehold_placehold_placehold_placehold_placehold_placehold_placehold_placehold_plac/bin/seqtk\n",
      "Fixing linking of /usr/lib/libSystem.B.dylib in /Users/perry/miniconda3/conda-bld/seqtk_1517365865334/_b_env_placehold_placehold_placehold_placehold_placehold_placehold_placehold_placehold_placehold_placehold_placehold_placehold_placehold_placehold_placehold_placehold_placehold_placehold_placehold_plac/bin/seqtk\n",
      "install_name_tool -add_rpath @loader_path/../lib/ /Users/perry/miniconda3/conda-bld/seqtk_1517365865334/_b_env_placehold_placehold_placehold_placehold_placehold_placehold_placehold_placehold_placehold_placehold_placehold_placehold_placehold_placehold_placehold_placehold_placehold_placehold_placehold_plac/bin/seqtk\n",
      "\n",
      "Fixing permissions\n",
      "/Users/perry/miniconda3/conda-bld/osx-64/seqtk-1.2-0.tar.bz2\n",
      "updating index in: /Users/perry/miniconda3/conda-bld\n",
      "updating index in: /Users/perry/miniconda3/conda-bld/noarch\n",
      "updating index in: /Users/perry/miniconda3/conda-bld/osx-64\n",
      "updating: seqtk-1.2-0.tar.bz2\n",
      "updating index in: /Users/perry/miniconda3/conda-bld\n",
      "TEST START: /Users/perry/miniconda3/conda-bld/osx-64/seqtk-1.2-0.tar.bz2\n",
      "Deleting work directory, /Users/perry/miniconda3/conda-bld/seqtk_1517365865334/work/seqtk-1.2\n",
      "\n",
      "The following NEW packages will be INSTALLED:\n",
      "\n",
      "    seqtk: 1.2-0    local      \n",
      "    zlib:  1.2.11-0 conda-forge\n",
      "\n",
      "\n",
      "WARNING: conda-build appears to be out of date. You have version 2.1.18 but the\n",
      "latest version is 3.3.0. Run\n",
      "\n",
      "conda update -n root conda-build\n",
      "\n",
      "to get the latest version.\n",
      "\n",
      "+ source /Users/perry/miniconda3/bin/activate /Users/perry/miniconda3/conda-bld/seqtk_1517365865334/_t_env\n",
      "+ /bin/bash -x -e /Users/perry/miniconda3/conda-bld/seqtk_1517365865334/test_tmp/run_test.sh\n",
      "+ seqtk seq\n",
      "\n",
      "Usage:   seqtk seq [options] <in.fq>|<in.fa>\n",
      "\n",
      "Options: -q INT    mask bases with quality lower than INT [0]\n",
      "         -X INT    mask bases with quality higher than INT [255]\n",
      "         -n CHAR   masked bases converted to CHAR; 0 for lowercase [0]\n",
      "         -l INT    number of residues per line; 0 for 2^32-1 [0]\n",
      "         -Q INT    quality shift: ASCII-INT gives base quality [33]\n",
      "         -s INT    random seed (effective with -f) [11]\n",
      "         -f FLOAT  sample FLOAT fraction of sequences [1]\n",
      "         -M FILE   mask regions in BED or name list FILE [null]\n",
      "         -L INT    drop sequences with length shorter than INT [0]\n",
      "         -c        mask complement region (effective with -M)\n",
      "         -r        reverse complement\n",
      "         -A        force FASTA output (discard quality)\n",
      "         -C        drop comments at the header lines\n",
      "         -N        drop sequences containing ambiguous bases\n",
      "         -1        output the 2n-1 reads only\n",
      "         -2        output the 2n reads only\n",
      "         -V        shift quality by '(-Q) - 33'\n",
      "         -U        convert all bases to uppercases\n",
      "         -S        strip of white spaces in sequences\n",
      "\n",
      "TEST END: /Users/perry/miniconda3/conda-bld/osx-64/seqtk-1.2-0.tar.bz2\n",
      "INFO:conda_build.config:--dirty flag and --keep-old-work not specified.Removing build/test folder after successful build/test.\n",
      "\n",
      "# Automatic uploading is disabled\n",
      "# If you want to upload package(s) to anaconda.org later, type:\n",
      "\n",
      "anaconda upload /Users/perry/miniconda3/conda-bld/osx-64/seqtk-1.2-0.tar.bz2\n",
      "\n",
      "# To have conda build upload to anaconda.org automatically, use\n",
      "# $ conda config --set anaconda_upload yes\n",
      "\n",
      "anaconda_upload is not set.  Not uploading wheels: []\n"
     ]
    }
   ],
   "source": [
    "# Once a new recipe is created, we can build it\n",
    "conda build recipes/seqtk/"
   ]
  },
  {
   "cell_type": "code",
   "execution_count": 32,
   "metadata": {
    "slideshow": {
     "slide_type": "subslide"
    }
   },
   "outputs": [
    {
     "name": "stdout",
     "output_type": "stream",
     "text": [
      "/Users/perry/miniconda3/conda-bld/osx-64/seqtk-1.2-0.tar.bz2\n"
     ]
    }
   ],
   "source": [
    "# Where is the package archive we just built ?\n",
    "conda build recipes/seqtk/ --output"
   ]
  },
  {
   "cell_type": "code",
   "execution_count": 34,
   "metadata": {},
   "outputs": [
    {
     "name": "stdout",
     "output_type": "stream",
     "text": [
      "Fetching package metadata .................\n",
      "Solving package specifications: .\n",
      "\n",
      "Package plan for installation in environment /Users/perry/miniconda3:\n",
      "\n",
      "The following NEW packages will be INSTALLED:\n",
      "\n",
      "    seqtk: 1.2-0 local\n",
      "\n"
     ]
    }
   ],
   "source": [
    "# Install the locally built package from the Conda build cache (the 'local' channel)\n",
    "conda install -y --use-local seqtk\n",
    "\n",
    "# or just using the package tar.bz2 directly, or an http:// link where it is hosted\n",
    "# conda install /Users/perry/miniconda3/conda-bld/osx-64/seqtk-1.2-0.tar.bz2\n",
    "# conda install http://bioinformatics.erc.monash.edu/home/andrewperry/conda/seqtk-1.2-0.tar.bz2"
   ]
  },
  {
   "cell_type": "markdown",
   "metadata": {
    "slideshow": {
     "slide_type": "slide"
    }
   },
   "source": [
    "### Distributing your build on Anaconda.org\n",
    "\n",
    "(on a personal `conda` channel, independently of the Bioconda project / channel)\n",
    "\n",
    "Step 1:\n",
    "Create an account at https://anaconda.org/"
   ]
  },
  {
   "cell_type": "code",
   "execution_count": null,
   "metadata": {},
   "outputs": [],
   "source": [
    "# Step 2: Install the `anaconda-client` package\n",
    "conda install anaconda-client\n",
    "\n",
    "# Step 3: Login and upload\n",
    "anaconda login\n",
    "# use the path to the package reported by `conda build recipes/seqtk/ --output`\n",
    "anaconda upload <path_to_package_bz2>\n",
    "\n",
    "# Step 4: Test that it worked - install from the channel you uploaded to\n",
    "conda uninstall bigdatascript\n",
    "conda install -c https://conda.anaconda.org/pansapiens bigdatascript"
   ]
  },
  {
   "cell_type": "markdown",
   "metadata": {
    "slideshow": {
     "slide_type": "slide"
    }
   },
   "source": [
    "# The Bioconda way\n",
    "\n",
    "http://bioconda.github.io/contributing.html\n",
    "\n",
    "Adding a recipe and testing locally before making a Pull Request.\n",
    "\n",
    "First step - go to https://github.com/bioconda/bioconda-recipes and fork the repo."
   ]
  },
  {
   "cell_type": "code",
   "execution_count": null,
   "metadata": {
    "slideshow": {
     "slide_type": "subslide"
    }
   },
   "outputs": [],
   "source": [
    "# Then clone your fork\n",
    "export MY_GIT_USERNAME=pansapiens\n",
    "git clone https://github.com/${MY_GIT_USERNAME}/bioconda-recipes.git\n",
    "cd bioconda-recipes"
   ]
  },
  {
   "cell_type": "code",
   "execution_count": null,
   "metadata": {
    "slideshow": {
     "slide_type": "subslide"
    }
   },
   "outputs": [],
   "source": [
    "# Create a new branch for your recipe\n",
    "git branch mynewtool\n",
    "git checkout mynewtool\n",
    "\n",
    "# Existing recipes in Bioconda usually make good starting points\n",
    "vi recipes/mynewtool/meta.yaml\n",
    "vi recipes/mynewtool/build.sh\n",
    "\n",
    "git commit -a -m \"Added new recipe for mynewtool.\""
   ]
  },
  {
   "cell_type": "code",
   "execution_count": null,
   "metadata": {
    "slideshow": {
     "slide_type": "subslide"
    }
   },
   "outputs": [],
   "source": [
    "# This Bioconda script creates a fresh Miniconda install, similar to the Bioconda Travis CI\n",
    "./simulate-travis.py --bootstrap /tmp/anaconda --overwrite\n",
    "\n",
    "# Build your recipe and run tests\n",
    "./simulate-travis.py --disable-docker --packages bigdatascript --force\n",
    "\n",
    "# If tests passed, you can now squash your commits, push the branch\n",
    "git push origin\n",
    "\n",
    "# Go to https://github.com/bioconda/bioconda-recipes and make a Pull Request for your branch\n",
    "\n",
    "# TravisCI will automatically build your branch.\n",
    "# If TravisCI tests pass, the Bioconda team will review your PR and if it's okay, merge it\n",
    "\n",
    "# Recipes in the Bioconda master branch are automatically built on Linux and macOS\n",
    "# (via TravisCI) and uploaded to the Anaconda `bioconda` channel."
   ]
  },
  {
   "cell_type": "markdown",
   "metadata": {
    "slideshow": {
     "slide_type": "slide"
    }
   },
   "source": [
    "# Thanks !"
   ]
  },
  {
   "cell_type": "code",
   "execution_count": null,
   "metadata": {},
   "outputs": [],
   "source": []
  }
 ],
 "metadata": {
  "kernelspec": {
   "display_name": "Bash",
   "language": "bash",
   "name": "bash"
  },
  "language_info": {
   "codemirror_mode": "shell",
   "file_extension": ".sh",
   "mimetype": "text/x-sh",
   "name": "bash"
  }
 },
 "nbformat": 4,
 "nbformat_minor": 2
}
